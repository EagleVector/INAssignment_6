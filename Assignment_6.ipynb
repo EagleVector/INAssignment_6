{
 "cells": [
  {
   "cell_type": "markdown",
   "id": "3da54076",
   "metadata": {},
   "source": [
    "Q1. What are escape characters, and how do you use them?"
   ]
  },
  {
   "cell_type": "markdown",
   "id": "b099f5f7",
   "metadata": {},
   "source": [
    "Ans. Backslash(\\) followed by a character is called as an escape character in python.It is a special string and It changes the meaning of the entire character"
   ]
  },
  {
   "cell_type": "markdown",
   "id": "eab0df8a",
   "metadata": {},
   "source": [
    "Q2. What do the escape characters n and t stand for?"
   ]
  },
  {
   "cell_type": "markdown",
   "id": "427be2d4",
   "metadata": {},
   "source": [
    "Ans. '\\n' is used when we have to go directly to a new line.'\\t' is used to perform the tab operation"
   ]
  },
  {
   "cell_type": "markdown",
   "id": "6a63fc50",
   "metadata": {},
   "source": [
    "Q3. What is the way to include backslash characters in a string?"
   ]
  },
  {
   "cell_type": "code",
   "execution_count": 28,
   "id": "e96648e7",
   "metadata": {},
   "outputs": [
    {
     "name": "stdout",
     "output_type": "stream",
     "text": [
      "Hello\n",
      "Python\n"
     ]
    }
   ],
   "source": [
    "s = 'Hello\\nPython'\n",
    "print(s)"
   ]
  },
  {
   "cell_type": "code",
   "execution_count": 29,
   "id": "b926e40f",
   "metadata": {},
   "outputs": [
    {
     "name": "stdout",
     "output_type": "stream",
     "text": [
      "Hello\tWorld\n"
     ]
    }
   ],
   "source": [
    "s = 'Hello\\tWorld'\n",
    "print(s)"
   ]
  },
  {
   "cell_type": "code",
   "execution_count": 30,
   "id": "c7f56f0b",
   "metadata": {},
   "outputs": [
    {
     "name": "stdout",
     "output_type": "stream",
     "text": [
      "\\n\n"
     ]
    }
   ],
   "source": [
    "s = r'\\n'\n",
    "print(s)"
   ]
  },
  {
   "cell_type": "markdown",
   "id": "6f0c7dee",
   "metadata": {},
   "source": [
    "Q4. The string \"Howl's Moving Castle\" is a correct value. Why isn't the single quote character in the\n",
    "word Howl's not escaped a problem?"
   ]
  },
  {
   "cell_type": "code",
   "execution_count": 35,
   "id": "32253447",
   "metadata": {},
   "outputs": [],
   "source": [
    "s = \"Howl's Moving Castle\""
   ]
  },
  {
   "cell_type": "code",
   "execution_count": 36,
   "id": "b4756aed",
   "metadata": {},
   "outputs": [
    {
     "data": {
      "text/plain": [
       "\"Howl's Moving Castle\""
      ]
     },
     "execution_count": 36,
     "metadata": {},
     "output_type": "execute_result"
    }
   ],
   "source": [
    "s"
   ]
  },
  {
   "cell_type": "markdown",
   "id": "193c2288",
   "metadata": {},
   "source": [
    "Ans. The given string is perfectly fine as we use a single quote inside double quotes. It will raise an error if we place a single quote inside single quotes"
   ]
  },
  {
   "cell_type": "markdown",
   "id": "64072510",
   "metadata": {},
   "source": [
    "Q5. How do you write a string of newlines if you don't want to use the n character?"
   ]
  },
  {
   "cell_type": "markdown",
   "id": "3aba3934",
   "metadata": {},
   "source": [
    "Ans. In that case we can place the entire string into triple quotes"
   ]
  },
  {
   "cell_type": "code",
   "execution_count": 39,
   "id": "e4b97827",
   "metadata": {},
   "outputs": [
    {
     "data": {
      "text/plain": [
       "'This is a great \\nmovie and i really \\nliked it a lot'"
      ]
     },
     "execution_count": 39,
     "metadata": {},
     "output_type": "execute_result"
    }
   ],
   "source": [
    "'''This is a great \n",
    "movie and i really \n",
    "liked it a lot'''"
   ]
  },
  {
   "cell_type": "markdown",
   "id": "f92e2904",
   "metadata": {},
   "source": [
    "Q6. What are the values of the given expressions?\n",
    "\n",
    "'Hello, world!'[1]\n",
    "\n",
    "'Hello, world!'[0:5]\n",
    "\n",
    "'Hello, world!'[:5]\n",
    "\n",
    "'Hello, world!'[3:]"
   ]
  },
  {
   "cell_type": "markdown",
   "id": "9eca024c",
   "metadata": {},
   "source": [
    "'Hello, world!'[1]"
   ]
  },
  {
   "cell_type": "markdown",
   "id": "e3cafc2f",
   "metadata": {},
   "source": [
    "It will return the first character starting from 0 initially."
   ]
  },
  {
   "cell_type": "code",
   "execution_count": 41,
   "id": "d3d64733",
   "metadata": {},
   "outputs": [
    {
     "data": {
      "text/plain": [
       "'e'"
      ]
     },
     "execution_count": 41,
     "metadata": {},
     "output_type": "execute_result"
    }
   ],
   "source": [
    "'Hello, world!'[1]"
   ]
  },
  {
   "cell_type": "markdown",
   "id": "b4fec381",
   "metadata": {},
   "source": [
    "'Hello, world!'[1]"
   ]
  },
  {
   "cell_type": "markdown",
   "id": "fa158724",
   "metadata": {},
   "source": [
    "It will return from 0 to 4th character starting from 0 initially and excluding the 5th one"
   ]
  },
  {
   "cell_type": "code",
   "execution_count": 42,
   "id": "4180d422",
   "metadata": {},
   "outputs": [
    {
     "data": {
      "text/plain": [
       "'Hello'"
      ]
     },
     "execution_count": 42,
     "metadata": {},
     "output_type": "execute_result"
    }
   ],
   "source": [
    "'Hello, world!'[0:5]"
   ]
  },
  {
   "cell_type": "markdown",
   "id": "7bfcb3ab",
   "metadata": {},
   "source": [
    "'Hello, world!'[:5]"
   ]
  },
  {
   "cell_type": "markdown",
   "id": "aae4c4f6",
   "metadata": {},
   "source": [
    "Till 5th character it will return excluding 5th."
   ]
  },
  {
   "cell_type": "code",
   "execution_count": 44,
   "id": "9638c6c6",
   "metadata": {},
   "outputs": [
    {
     "data": {
      "text/plain": [
       "'Hello'"
      ]
     },
     "execution_count": 44,
     "metadata": {},
     "output_type": "execute_result"
    }
   ],
   "source": [
    "'Hello, world!'[:5]"
   ]
  },
  {
   "cell_type": "markdown",
   "id": "f1079849",
   "metadata": {},
   "source": [
    "'Hello, world!'[3:]"
   ]
  },
  {
   "cell_type": "markdown",
   "id": "3ef19263",
   "metadata": {},
   "source": [
    "From 3rd character till the end it will return."
   ]
  },
  {
   "cell_type": "code",
   "execution_count": 45,
   "id": "d2647ac9",
   "metadata": {},
   "outputs": [
    {
     "data": {
      "text/plain": [
       "'lo, world!'"
      ]
     },
     "execution_count": 45,
     "metadata": {},
     "output_type": "execute_result"
    }
   ],
   "source": [
    "'Hello, world!'[3:]"
   ]
  },
  {
   "cell_type": "markdown",
   "id": "f6df7e11",
   "metadata": {},
   "source": [
    "Q7. What are the values of the following expressions?\n",
    "\n",
    "'Hello'.upper()\n",
    "\n",
    "'Hello'.upper().isupper()\n",
    "\n",
    "'Hello'.upper().lower()"
   ]
  },
  {
   "cell_type": "markdown",
   "id": "d156cf00",
   "metadata": {},
   "source": [
    "'Hello'.upper()"
   ]
  },
  {
   "cell_type": "markdown",
   "id": "2ef6a15e",
   "metadata": {},
   "source": [
    "It converts the string into upper case "
   ]
  },
  {
   "cell_type": "code",
   "execution_count": 46,
   "id": "8e944f34",
   "metadata": {},
   "outputs": [
    {
     "data": {
      "text/plain": [
       "'HELLO'"
      ]
     },
     "execution_count": 46,
     "metadata": {},
     "output_type": "execute_result"
    }
   ],
   "source": [
    "'Hello'.upper()"
   ]
  },
  {
   "cell_type": "markdown",
   "id": "ba733d71",
   "metadata": {},
   "source": [
    "'Hello'.upper().isupper()"
   ]
  },
  {
   "cell_type": "markdown",
   "id": "b674699a",
   "metadata": {},
   "source": [
    "It first converts the string into upper case and then checks the condition whether the string is upper case or not"
   ]
  },
  {
   "cell_type": "code",
   "execution_count": 48,
   "id": "840ceb08",
   "metadata": {},
   "outputs": [
    {
     "data": {
      "text/plain": [
       "True"
      ]
     },
     "execution_count": 48,
     "metadata": {},
     "output_type": "execute_result"
    }
   ],
   "source": [
    "'Hello'.upper().isupper()"
   ]
  },
  {
   "cell_type": "markdown",
   "id": "258db61f",
   "metadata": {},
   "source": [
    "The output returned is boolean"
   ]
  },
  {
   "cell_type": "markdown",
   "id": "34f991f8",
   "metadata": {},
   "source": [
    "'Hello'.upper().lower()"
   ]
  },
  {
   "cell_type": "markdown",
   "id": "f2f6a1d6",
   "metadata": {},
   "source": [
    "It first converts the string into upper case. and then It first converts the string into lower case and finally returns the output."
   ]
  },
  {
   "cell_type": "code",
   "execution_count": 50,
   "id": "3499efe7",
   "metadata": {},
   "outputs": [
    {
     "data": {
      "text/plain": [
       "'hello'"
      ]
     },
     "execution_count": 50,
     "metadata": {},
     "output_type": "execute_result"
    }
   ],
   "source": [
    "'Hello'.upper().lower()"
   ]
  },
  {
   "cell_type": "markdown",
   "id": "b39ddeeb",
   "metadata": {},
   "source": [
    "Q8. What are the values of the following expressions?\n",
    "\n",
    "'Remember, remember, the fifth of July.'.split()\n",
    "\n",
    "'-'.join('There can only one.'.split())"
   ]
  },
  {
   "cell_type": "markdown",
   "id": "b0be5735",
   "metadata": {},
   "source": [
    "'Remember, remember, the fifth of July.'.split()"
   ]
  },
  {
   "cell_type": "markdown",
   "id": "6411c406",
   "metadata": {},
   "source": [
    "It returns the list of objects seperated by a space."
   ]
  },
  {
   "cell_type": "code",
   "execution_count": 53,
   "id": "4357555a",
   "metadata": {},
   "outputs": [
    {
     "data": {
      "text/plain": [
       "['Remember,', 'remember,', 'the', 'fifth', 'of', 'July.']"
      ]
     },
     "execution_count": 53,
     "metadata": {},
     "output_type": "execute_result"
    }
   ],
   "source": [
    "'Remember, remember, the fifth of July.'.split()"
   ]
  },
  {
   "cell_type": "markdown",
   "id": "aebd269a",
   "metadata": {},
   "source": [
    "'-'.join('There can only one.'.split())"
   ]
  },
  {
   "cell_type": "markdown",
   "id": "919eaca7",
   "metadata": {},
   "source": [
    "It first splits the string and then join by '-'"
   ]
  },
  {
   "cell_type": "code",
   "execution_count": 55,
   "id": "a91009f4",
   "metadata": {},
   "outputs": [
    {
     "data": {
      "text/plain": [
       "'There-can-only-one.'"
      ]
     },
     "execution_count": 55,
     "metadata": {},
     "output_type": "execute_result"
    }
   ],
   "source": [
    "'-'.join('There can only one.'.split())"
   ]
  },
  {
   "cell_type": "markdown",
   "id": "0eff8175",
   "metadata": {},
   "source": [
    "Q9. What are the methods for right-justifying, left-justifying, and centering a string?"
   ]
  },
  {
   "cell_type": "markdown",
   "id": "3fb1eee9",
   "metadata": {},
   "source": [
    "Ans. We can use the function ljust , rjust and center."
   ]
  },
  {
   "cell_type": "code",
   "execution_count": 69,
   "id": "844b17d6",
   "metadata": {},
   "outputs": [
    {
     "data": {
      "text/plain": [
       "'&&&&&&&&&&&&&&&&&&&&&&&&&Hello'"
      ]
     },
     "execution_count": 69,
     "metadata": {},
     "output_type": "execute_result"
    }
   ],
   "source": [
    "s = 'Hello'\n",
    "s.rjust(30,'&')"
   ]
  },
  {
   "cell_type": "code",
   "execution_count": 71,
   "id": "7edbf3e0",
   "metadata": {},
   "outputs": [
    {
     "data": {
      "text/plain": [
       "'Hello&&&&&&&&&&&&&&&&&&&&&&&&&'"
      ]
     },
     "execution_count": 71,
     "metadata": {},
     "output_type": "execute_result"
    }
   ],
   "source": [
    "s = 'Hello'\n",
    "s.ljust(30,'&')"
   ]
  },
  {
   "cell_type": "code",
   "execution_count": 72,
   "id": "8a014c94",
   "metadata": {},
   "outputs": [
    {
     "data": {
      "text/plain": [
       "'&&&&&&&&&&&&Hello&&&&&&&&&&&&&'"
      ]
     },
     "execution_count": 72,
     "metadata": {},
     "output_type": "execute_result"
    }
   ],
   "source": [
    "s = 'Hello'\n",
    "s.center(30,'&')"
   ]
  },
  {
   "cell_type": "markdown",
   "id": "a47e30f3",
   "metadata": {},
   "source": [
    "10. What is the best way to remove whitespace characters from the start or end?"
   ]
  },
  {
   "cell_type": "markdown",
   "id": "ed5fc472",
   "metadata": {},
   "source": [
    "Ans. strip() will do the job."
   ]
  },
  {
   "cell_type": "code",
   "execution_count": 73,
   "id": "7f0324d7",
   "metadata": {},
   "outputs": [
    {
     "data": {
      "text/plain": [
       "'Hel    lo'"
      ]
     },
     "execution_count": 73,
     "metadata": {},
     "output_type": "execute_result"
    }
   ],
   "source": [
    "s = '         Hel    lo       '\n",
    "s.strip()"
   ]
  },
  {
   "cell_type": "code",
   "execution_count": 74,
   "id": "9de17ed3",
   "metadata": {},
   "outputs": [
    {
     "data": {
      "text/plain": [
       "'Hel    lo       '"
      ]
     },
     "execution_count": 74,
     "metadata": {},
     "output_type": "execute_result"
    }
   ],
   "source": [
    "s = '         Hel    lo       '\n",
    "s.lstrip()"
   ]
  },
  {
   "cell_type": "code",
   "execution_count": 75,
   "id": "b7e639f2",
   "metadata": {},
   "outputs": [
    {
     "data": {
      "text/plain": [
       "'         Hel    lo'"
      ]
     },
     "execution_count": 75,
     "metadata": {},
     "output_type": "execute_result"
    }
   ],
   "source": [
    "s = '         Hel    lo       '\n",
    "s.rstrip()"
   ]
  }
 ],
 "metadata": {
  "kernelspec": {
   "display_name": "Python 3 (ipykernel)",
   "language": "python",
   "name": "python3"
  },
  "language_info": {
   "codemirror_mode": {
    "name": "ipython",
    "version": 3
   },
   "file_extension": ".py",
   "mimetype": "text/x-python",
   "name": "python",
   "nbconvert_exporter": "python",
   "pygments_lexer": "ipython3",
   "version": "3.9.7"
  }
 },
 "nbformat": 4,
 "nbformat_minor": 5
}
